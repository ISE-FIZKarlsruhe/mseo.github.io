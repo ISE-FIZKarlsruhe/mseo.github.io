{
 "cells": [
  {
   "cell_type": "code",
   "execution_count": 3,
   "metadata": {},
   "outputs": [],
   "source": [
    "# Import necessary libraries\n",
    "import pandas as pd\n",
    "from IPython.display import display, HTML\n",
    "import re\n",
    "\n",
    "# Define the LaTeX file path\n",
    "latex_file = 'general.tex'\n",
    "\n",
    "# Read the LaTeX file\n",
    "with open(latex_file, 'r', encoding=\"utf-8\") as file:\n",
    "    latex_content = file.read()\n",
    "\n",
    "# Extract the table content from the LaTeX file\n",
    "start_marker = '\\\\begin{tabular}'\n",
    "end_marker = '\\\\end{tabular}'\n",
    "\n",
    "start_idx = latex_content.find(start_marker)\n",
    "end_idx = latex_content.find(end_marker) + len(end_marker)\n",
    "\n",
    "if start_idx != -1 and end_idx != -1:\n",
    "    table_content = latex_content[start_idx:end_idx]\n",
    "else:\n",
    "    table_content = \"Table not found in the LaTeX file.\"\n",
    "\n",
    "# Parse the table content\n",
    "table_rows = table_content.split('\\\\\\\\')\n",
    "parsed_data = []\n",
    "for row in table_rows:\n",
    "    # Remove LaTeX commands and trim whitespace\n",
    "    cleaned_row = re.sub(r'\\\\[a-zA-Z]+', '', row).strip()\n",
    "    if cleaned_row:\n",
    "        parsed_data.append([cell.strip() for cell in cleaned_row.split('&')])\n",
    "\n",
    "# Create a pandas DataFrame\n",
    "columns = parsed_data[1]\n",
    "data = parsed_data[2:-1]\n",
    "df = pd.DataFrame(data, columns=columns)\n",
    "\n",
    "# Display the DataFrame as an HTML table\n",
    "display(HTML(df.to_html(index=False, escape=False)))\n"
   ]
  }
 ],
 "metadata": {
  "kernelspec": {
   "display_name": "Python 3.10.11 64-bit (microsoft store)",
   "language": "python",
   "name": "python3"
  },
  "language_info": {
   "codemirror_mode": {
    "name": "ipython",
    "version": 3
   },
   "file_extension": ".py",
   "mimetype": "text/x-python",
   "name": "python",
   "nbconvert_exporter": "python",
   "pygments_lexer": "ipython3",
   "version": "3.10.11"
  },
  "orig_nbformat": 4,
  "vscode": {
   "interpreter": {
    "hash": "372ad118f81acd4222add26895f13bc27a937b9d5021100e967f342fe93795e5"
   }
  }
 },
 "nbformat": 4,
 "nbformat_minor": 2
}
