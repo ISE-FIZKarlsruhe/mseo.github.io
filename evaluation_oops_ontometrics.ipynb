{
 "cells": [
  {
   "cell_type": "code",
   "execution_count": 29,
   "metadata": {},
   "outputs": [],
   "source": [
    "#!/usr/bin/env python\n",
    "\n",
    "import os\n",
    "import sys\n",
    "import requests\n",
    "\n",
    "OOPS_URL=\"https://oops.linkeddata.es/rest\"\n",
    "\n",
    "def oops(owl_file):\n",
    "\t#\n",
    "\tf = open(owl_file, 'r')\n",
    "\tcontent = f.read()\n",
    "\tf.close()\n",
    "\t#\n",
    "\txml_content = (\"\"\"\n",
    "    <?xml version=\"1.0\" encoding=\"UTF-8\"?>\n",
    "    <OOPSRequest>\n",
    "      <OntologyUrl></OntologyUrl>\n",
    "      <OntologyContent><![CDATA[\n",
    "%s      \n",
    "]]></OntologyContent>\n",
    "          <Pitfalls>2,3,4,5,6,7,8,10,11,12,13,19,20,21,22,25,25,26,27,28,29</Pitfalls>\n",
    "          <OutputFormat>XML</OutputFormat>\n",
    "    </OOPSRequest>\n",
    "\t\"\"\" % content).encode(\"UTF-8\")\n",
    "\theaders = {'Content-Type': 'application/xml',\n",
    "\t           'Connection': 'Keep-Alive'\n",
    "\t}\n",
    "\treturn requests.post(OOPS_URL, data=xml_content, headers=headers).text\n",
    "\n",
    "if __name__ == \"__main__\":\n",
    "\t# read arguments\n",
    "\towl_file = \"all_files/AMONTOLOGY.owl\" #sys.argv[1]\n",
    "\tout_dir = \"all_files/AMONTOLOGY.xml\" # sys.argv[2]\n",
    "\t# get XML data\n",
    "\txml_data = oops(owl_file)\n",
    "\t# write file\n",
    "\t#print(xml_data)\n",
    "\tout_file = os.path.join(out_dir)#,'oops.xml')\n",
    "\tf = open(out_file, \"w\")\n",
    "\tf.write(xml_data)\n",
    "\tf.close()\n",
    "\t\n",
    "\n",
    "\n"
   ]
  },
  {
   "cell_type": "code",
   "execution_count": null,
   "metadata": {},
   "outputs": [],
   "source": []
  }
 ],
 "metadata": {
  "kernelspec": {
   "display_name": "Python 3.10.11 64-bit (microsoft store)",
   "language": "python",
   "name": "python3"
  },
  "language_info": {
   "codemirror_mode": {
    "name": "ipython",
    "version": 3
   },
   "file_extension": ".py",
   "mimetype": "text/x-python",
   "name": "python",
   "nbconvert_exporter": "python",
   "pygments_lexer": "ipython3",
   "version": "3.10.11"
  },
  "orig_nbformat": 4,
  "vscode": {
   "interpreter": {
    "hash": "372ad118f81acd4222add26895f13bc27a937b9d5021100e967f342fe93795e5"
   }
  }
 },
 "nbformat": 4,
 "nbformat_minor": 2
}
